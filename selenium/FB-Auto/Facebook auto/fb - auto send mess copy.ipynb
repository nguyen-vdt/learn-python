{
  "nbformat": 4,
  "nbformat_minor": 0,
  "metadata": {
    "colab": {
      "name": "fb",
      "provenance": []
    },
    "kernelspec": {
      "name": "python383jvsc74a57bd0b3ba2566441a7c06988d0923437866b63cedc61552a5af99d1f4fb67d367b25f",
      "display_name": "Python 3.8.3 64-bit (conda)"
    }
  },
  "cells": [
    {
      "cell_type": "code",
      "metadata": {
        "id": "wotWYKXH84aL"
      },
      "source": [
        "!pip install selenium\n",
        "!apt-get update \n",
        "!apt install chromium-chromedriver"
      ],
      "execution_count": 1,
      "outputs": [
        {
          "output_type": "stream",
          "name": "stdout",
          "text": [
            "Requirement already satisfied: selenium in c:\\programdata\\anaconda3\\lib\\site-packages (3.141.0)\n",
            "Requirement already satisfied: urllib3 in c:\\programdata\\anaconda3\\lib\\site-packages (from selenium) (1.25.9)\n",
            "'apt-get' is not recognized as an internal or external command,\n",
            "operable program or batch file.\n",
            "'apt' is not recognized as an internal or external command,\n",
            "operable program or batch file.\n"
          ]
        }
      ]
    },
    {
      "cell_type": "code",
      "metadata": {
        "id": "Ef-y5hbl9UTK"
      },
      "source": [
        "from selenium.webdriver.common.keys import Keys\n",
        "from selenium import webdriver\n",
        "from selenium import *\n",
        "import os\n",
        "import time\n",
        "from selenium.webdriver import ActionChains"
      ],
      "execution_count": 8,
      "outputs": []
    },
    {
      "cell_type": "code",
      "metadata": {
        "id": "3AF6ENxd-CJU"
      },
      "source": [
        "chrome_options = webdriver.ChromeOptions()\n",
        "# chrome_options.add_argument('--headless')\n",
        "chrome_options.add_argument('--no-sandbox')\n",
        "chrome_options.add_argument('--disable-dev-shm-usage')\n",
        "driver= webdriver.Chrome('chromedriver',chrome_options=chrome_options)\n"
      ],
      "execution_count": 9,
      "outputs": [
        {
          "output_type": "stream",
          "name": "stderr",
          "text": [
            "<ipython-input-9-82a55a077d2a>:5: DeprecationWarning: use options instead of chrome_options\n  driver= webdriver.Chrome('chromedriver',chrome_options=chrome_options)\n"
          ]
        }
      ]
    },
    {
      "cell_type": "code",
      "metadata": {
        "id": "xNJaonkqA6ex"
      },
      "source": [
        "cookies = [\n",
        "  {'domain': '.zalo.me',\n",
        "  'expiry': 1649520628,\n",
        "  'httpOnly': True,\n",
        "  'name': 'zpsidleg',\n",
        "  'path': '/',\n",
        "  'secure': True,\n",
        "  'value': 'M3TY.277367320.16.I05hH4WX5MjGQvrxH24LQprIPrb_5YPTVn8dMtARBCt8S9CjIOs26oWX5Mi'}]"
      ],
      "execution_count": 15,
      "outputs": []
    },
    {
      "cell_type": "markdown",
      "metadata": {
        "id": "k_NrRoX2CnkB"
      },
      "source": [
        "Nếu có cookies có thể chèn cookies"
      ]
    },
    {
      "cell_type": "code",
      "metadata": {
        "id": "zbqeLy-aA7-9"
      },
      "source": [
        "for i in cookies:\n",
        "    driver.add_cookie(i)"
      ],
      "execution_count": 16,
      "outputs": []
    },
    {
      "cell_type": "code",
      "metadata": {
        "id": "fRHAKZ49-bY1"
      },
      "source": [
        "driver.get(\"https://chat.zalo.me/\")\n",
        "time.sleep(1)"
      ],
      "execution_count": 17,
      "outputs": []
    },
    {
      "cell_type": "code",
      "metadata": {
        "colab": {
          "base_uri": "https://localhost:8080/"
        },
        "id": "XjvKxRoUAPwE",
        "outputId": "a1b23c5a-ffaf-482f-e6d9-5ec096eedede"
      },
      "source": [
        "driver.get_cookies()"
      ],
      "execution_count": 7,
      "outputs": [
        {
          "output_type": "execute_result",
          "data": {
            "text/plain": [
              "[{'domain': '.zalo.me',\n",
              "  'expiry': 1680194478,\n",
              "  'httpOnly': False,\n",
              "  'name': '__zi-legacy',\n",
              "  'path': '/',\n",
              "  'secure': False,\n",
              "  'value': '3000.SSZzejyD6zOgdh2mtnLQWYQN_RAG01ICFjIXe9fEM8uvdkwacafPY7ASwgNHGbUFSPBdfJWp.1'},\n",
              " {'domain': '.zalo.me',\n",
              "  'expiry': 1680194478,\n",
              "  'httpOnly': False,\n",
              "  'name': '__zi',\n",
              "  'path': '/',\n",
              "  'sameSite': 'None',\n",
              "  'secure': True,\n",
              "  'value': '3000.SSZzejyD6zOgdh2mtnLQWYQN_RAG01ICFjIXe9fEM8uvdkwacafPY7ASwgNHGbUFSPBdfJWp.1'},\n",
              " {'domain': '.chat.zalo.me',\n",
              "  'expiry': 1633538478,\n",
              "  'httpOnly': True,\n",
              "  'name': 'zpw_sek',\n",
              "  'path': '/',\n",
              "  'sameSite': 'None',\n",
              "  'secure': True,\n",
              "  'value': 'pDMF.277367320.a0.gIF0d0XWLJOGAjqcAM1LDdD2C5qgMdSFSJKRS6OkR4nVIoDRSIzjOdiY96vlNMWKTLhl3wvin_y8OVcrU01h1G'},\n",
              " {'domain': '.zalo.me',\n",
              "  'expiry': 1649522477,\n",
              "  'httpOnly': True,\n",
              "  'name': 'zpsid',\n",
              "  'path': '/',\n",
              "  'sameSite': 'None',\n",
              "  'secure': True,\n",
              "  'value': '-zRb.277367320.13.BiCuyc8gFs1wOBTmRYe_O1TPJL9L7GnMLHaDK5YG1iRYUxacOrX3408gFs0'},\n",
              " {'domain': '.zalo.me',\n",
              "  'expiry': 1649522477,\n",
              "  'httpOnly': True,\n",
              "  'name': 'zpsidleg',\n",
              "  'path': '/',\n",
              "  'secure': True,\n",
              "  'value': '-zRb.277367320.13.BiCuyc8gFs1wOBTmRYe_O1TPJL9L7GnMLHaDK5YG1iRYUxacOrX3408gFs0'},\n",
              " {'domain': '.zalo.me',\n",
              "  'expiry': 1618072878,\n",
              "  'httpOnly': False,\n",
              "  'name': '_gid',\n",
              "  'path': '/',\n",
              "  'secure': False,\n",
              "  'value': 'GA1.2.1807452815.1617984578'},\n",
              " {'domain': '.chat.zalo.me',\n",
              "  'expiry': 1681058478,\n",
              "  'httpOnly': False,\n",
              "  'name': '_ga',\n",
              "  'path': '/',\n",
              "  'secure': False,\n",
              "  'value': 'GA1.3.1123115908.1617984578'},\n",
              " {'domain': '.zalo.me',\n",
              "  'expiry': 1618159278,\n",
              "  'httpOnly': True,\n",
              "  'name': 'app.event.zalo.me',\n",
              "  'path': '/',\n",
              "  'secure': False,\n",
              "  'value': '2659714308452769888'},\n",
              " {'domain': '.zalo.me',\n",
              "  'expiry': 1681058478,\n",
              "  'httpOnly': False,\n",
              "  'name': '_ga',\n",
              "  'path': '/',\n",
              "  'secure': False,\n",
              "  'value': 'GA1.2.1123115908.1617984578'},\n",
              " {'domain': '.chat.zalo.me',\n",
              "  'expiry': 1618072878,\n",
              "  'httpOnly': False,\n",
              "  'name': '_gid',\n",
              "  'path': '/',\n",
              "  'secure': False,\n",
              "  'value': 'GA1.3.1807452815.1617984578'},\n",
              " {'domain': '.zalo.me',\n",
              "  'expiry': 1681058466,\n",
              "  'httpOnly': False,\n",
              "  'name': '_zsfp',\n",
              "  'path': '/',\n",
              "  'secure': False,\n",
              "  'value': '_zgna'},\n",
              " {'domain': '.chat.zalo.me',\n",
              "  'expiry': 1633538478,\n",
              "  'httpOnly': True,\n",
              "  'name': 'zpw_sekm',\n",
              "  'path': '/',\n",
              "  'sameSite': 'None',\n",
              "  'secure': True,\n",
              "  'value': 'RrAk.277367320.13.ymPYHT2GZTh8sWNAtP2DsgNZwAZYfxhfvgU-wE2gD-Dsd1yJq97-fg3mZTe'},\n",
              " {'domain': '.zalo.me',\n",
              "  'expiry': 1618072878,\n",
              "  'httpOnly': False,\n",
              "  'name': '_zlang',\n",
              "  'path': '/',\n",
              "  'secure': False,\n",
              "  'value': 'vn'}]"
            ]
          },
          "metadata": {},
          "execution_count": 7
        }
      ]
    },
    {
      "cell_type": "code",
      "metadata": {
        "colab": {
          "base_uri": "https://localhost:8080/"
        },
        "id": "s6xivANYAb24",
        "outputId": "d184c273-4467-42b9-aa55-5bb39ebbff8d"
      },
      "source": [
        "driver.save_screenshot(\"screenshot.png\")"
      ],
      "execution_count": null,
      "outputs": [
        {
          "output_type": "execute_result",
          "data": {
            "text/plain": [
              "True"
            ]
          },
          "metadata": {
            "tags": []
          },
          "execution_count": 42
        }
      ]
    }
  ]
}
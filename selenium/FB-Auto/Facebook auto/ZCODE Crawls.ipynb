{
  "nbformat": 4,
  "nbformat_minor": 0,
  "metadata": {
    "colab": {
      "name": "fb",
      "provenance": []
    },
    "kernelspec": {
      "name": "python3",
      "display_name": "Python 3",
      "language": "python"
    }
  },
  "cells": [
    {
      "cell_type": "code",
      "metadata": {
        "id": "wotWYKXH84aL"
      },
      "source": [
        "!pip install selenium\r\n",
        "!apt-get update \r\n",
        "!apt install chromium-chromedriver"
      ],
      "execution_count": null,
      "outputs": []
    },
    {
      "cell_type": "code",
      "metadata": {
        "id": "Ef-y5hbl9UTK"
      },
      "source": [
        "from selenium.webdriver.common.keys import Keys\n",
        "from selenium import webdriver\n",
        "from selenium import *\n",
        "import os\n",
        "import time\n",
        "from selenium.webdriver import ActionChains"
      ],
      "execution_count": 1,
      "outputs": []
    },
    {
      "cell_type": "code",
      "metadata": {
        "id": "3AF6ENxd-CJU"
      },
      "source": [
        "chrome_options = webdriver.ChromeOptions()\n",
        " \n",
        "# chrome_options.add_argument('--headless')\n",
        "chrome_options.add_argument('--no-sandbox')\n",
        "chrome_options.add_argument('--disable-dev-shm-usage')\n",
        "chrome_options.add_argument(\"--disable-notifications\")\n",
        "# chrome_options.add_argument(r\"--user-data-dir=C:/Users/nguyen/AppData/Local/Google/Chrome/User Data\")\n",
        "# chrome_options.add_argument('--profile-directory=Default')\n",
        "driver= webdriver.Chrome('chromedriver',chrome_options=chrome_options)\n"
      ],
      "execution_count": 3,
      "outputs": [
        {
          "output_type": "stream",
          "name": "stderr",
          "text": [
            "<ipython-input-3-71ae45611e87>:9: DeprecationWarning: use options instead of chrome_options\n  driver= webdriver.Chrome('chromedriver',chrome_options=chrome_options)\n"
          ]
        }
      ]
    },
    {
      "cell_type": "markdown",
      "metadata": {
        "id": "k_NrRoX2CnkB"
      },
      "source": [
        "Nếu có cookies có thể chèn cookies"
      ]
    },
    {
      "cell_type": "code",
      "metadata": {
        "id": "fRHAKZ49-bY1"
      },
      "source": [
        "driver.get(\"http://code.ptit.edu.vn\")\n",
        "time.sleep(1)"
      ],
      "execution_count": 4,
      "outputs": []
    },
    {
      "cell_type": "code",
      "metadata": {
        "colab": {
          "base_uri": "https://localhost:8080/"
        },
        "id": "s6xivANYAb24",
        "outputId": "d184c273-4467-42b9-aa55-5bb39ebbff8d"
      },
      "source": [
        "driver.save_screenshot(\"screenshot.png\")"
      ],
      "execution_count": 8,
      "outputs": [
        {
          "output_type": "execute_result",
          "data": {
            "text/plain": [
              "True"
            ]
          },
          "metadata": {},
          "execution_count": 8
        }
      ]
    },
    {
      "cell_type": "code",
      "metadata": {
        "id": "D0CgTLRy_14O"
      },
      "source": [
        "driver.find_element_by_css_selector('#login__user').send_keys(\"B19DCCN479\")"
      ],
      "execution_count": 5,
      "outputs": []
    },
    {
      "cell_type": "code",
      "metadata": {
        "id": "4r_Rz8BH_wPu"
      },
      "source": [
        "driver.find_element_by_css_selector('#login__pw').send_keys(\"pvn2k1vn\")"
      ],
      "execution_count": 6,
      "outputs": []
    },
    {
      "cell_type": "code",
      "metadata": {
        "id": "H4V5htcv_x4j"
      },
      "source": [
        "driver.find_element_by_css_selector('body > div.container-fluid > div > div > div:nth-child(3) > div > form > button').click()"
      ],
      "execution_count": 7,
      "outputs": []
    },
    {
      "cell_type": "code",
      "execution_count": null,
      "metadata": {},
      "outputs": [],
      "source": []
    },
    {
      "cell_type": "code",
      "execution_count": null,
      "metadata": {},
      "outputs": [],
      "source": []
    }
  ]
}
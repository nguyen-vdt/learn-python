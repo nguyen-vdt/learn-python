{
  "nbformat": 4,
  "nbformat_minor": 0,
  "metadata": {
    "colab": {
      "name": "fb",
      "provenance": []
    },
    "kernelspec": {
      "name": "python3",
      "display_name": "Python 3"
    }
  },
  "cells": [
    {
      "cell_type": "code",
      "metadata": {
        "id": "wotWYKXH84aL"
      },
      "source": [
        "!pip install selenium\r\n",
        "!apt-get update \r\n",
        "!apt install chromium-chromedriver"
      ],
      "execution_count": null,
      "outputs": []
    },
    {
      "cell_type": "code",
      "metadata": {
        "id": "Ef-y5hbl9UTK"
      },
      "source": [
        "from selenium.webdriver.common.keys import Keys\r\n",
        "from selenium import webdriver\r\n",
        "from selenium import *\r\n",
        "import os\r\n",
        "import time\r\n",
        "from selenium.webdriver import ActionChains"
      ],
      "execution_count": null,
      "outputs": []
    },
    {
      "cell_type": "code",
      "metadata": {
        "id": "3AF6ENxd-CJU"
      },
      "source": [
        "chrome_options = webdriver.ChromeOptions()\r\n",
        "chrome_options.add_argument('--headless')\r\n",
        "chrome_options.add_argument('--no-sandbox')\r\n",
        "chrome_options.add_argument('--disable-dev-shm-usage')\r\n",
        "driver= webdriver.Chrome('chromedriver',chrome_options=chrome_options)\r\n"
      ],
      "execution_count": null,
      "outputs": []
    },
    {
      "cell_type": "markdown",
      "metadata": {
        "id": "k_NrRoX2CnkB"
      },
      "source": [
        "Nếu có cookies có thể chèn cookies"
      ]
    },
    {
      "cell_type": "code",
      "metadata": {
        "id": "xNJaonkqA6ex"
      },
      "source": [
        "cookies = []"
      ],
      "execution_count": null,
      "outputs": []
    },
    {
      "cell_type": "code",
      "metadata": {
        "id": "zbqeLy-aA7-9"
      },
      "source": [
        "for i in cookies:\r\n",
        "    driver.add_cookie(i)"
      ],
      "execution_count": null,
      "outputs": []
    },
    {
      "cell_type": "code",
      "metadata": {
        "id": "4T5PIl1cCso0"
      },
      "source": [
        "email = \"\"\r\n",
        "password = \"\""
      ],
      "execution_count": null,
      "outputs": []
    },
    {
      "cell_type": "code",
      "metadata": {
        "id": "fRHAKZ49-bY1"
      },
      "source": [
        "driver.get(\"https://facebook.com\")\r\n",
        "driver.find_element_by_id(\"email\").send_keys(email)\r\n",
        "driver.find_element_by_id(\"pass\").send_keys(password)\r\n",
        "driver.find_element_by_id(\"u_0_d\").click()\r\n",
        "time.sleep(1)"
      ],
      "execution_count": null,
      "outputs": []
    },
    {
      "cell_type": "code",
      "metadata": {
        "id": "Xskla2q9C2E4"
      },
      "source": [
        "import json\r\n",
        "\r\n",
        "f = open(\"friend.json\")\r\n",
        "f = json.load(f)"
      ],
      "execution_count": null,
      "outputs": []
    },
    {
      "cell_type": "code",
      "metadata": {
        "colab": {
          "base_uri": "https://localhost:8080/"
        },
        "id": "Pd_ZnSxHDhxy",
        "outputId": "db75ba46-c35b-4d24-ff6d-f7f88f933f11"
      },
      "source": [
        "for i in f['data']:\r\n",
        "  print(i)"
      ],
      "execution_count": null,
      "outputs": [
        {
          "output_type": "stream",
          "text": [
            "{'name': 'Tram Nguyen', 'id': '606677821'}\n",
            "{'name': 'Le Khanh', 'id': '1210595131'}\n",
            "{'name': 'Nguyễn Trung Đức', 'id': '100000464375487'}\n",
            "{'name': 'Cáp Xuân Huy', 'id': '100000960280004'}\n",
            "{'name': 'Nguyễn Phúc Lương', 'id': '100001273006922'}\n",
            "{'name': 'Nguyễn Hưng', 'id': '100001448174428'}\n",
            "{'name': 'Tuan M Truong', 'id': '100001904443471'}\n",
            "{'name': 'Nguyễn Mạnh Sơn', 'id': '100002227753710'}\n",
            "{'name': 'Hà Thái', 'id': '100002791294008'}\n",
            "{'name': 'Kim Long', 'id': '100003338401473'}\n",
            "{'name': 'Sandeep Kumar', 'id': '100003397666447'}\n",
            "{'name': 'Hà Hữu Phong', 'id': '100003926800987'}\n",
            "{'name': 'Nguyễn Đông', 'id': '100003961133525'}\n",
            "{'name': 'Trần Quốc Hiệu', 'id': '100004349173681'}\n",
            "{'name': 'Nam Bảy Tkuần Lộc', 'id': '100004356194925'}\n",
            "{'name': 'Hà Thị Ngọc Anh', 'id': '100004369983966'}\n",
            "{'name': 'Ngát Hoàng', 'id': '100004649324833'}\n",
            "{'name': 'Trần Ngọc Bảo Trang', 'id': '100004969565625'}\n",
            "{'name': 'Nguyễn Linh', 'id': '100005148646816'}\n",
            "{'name': 'Phạm Sâm', 'id': '100005310490222'}\n",
            "{'name': 'Minh Phạm Hiếu', 'id': '100005501652229'}\n",
            "{'name': 'Duyên Mai', 'id': '100005804640603'}\n",
            "{'name': \"Ck's Của's Linh's\", 'id': '100005852358131'}\n",
            "{'name': 'Nguyễn Tuấn Đạt', 'id': '100006238180872'}\n",
            "{'name': 'Quốc Kiệt', 'id': '100006374564994'}\n",
            "{'name': 'Hồng', 'id': '100006460336366'}\n",
            "{'name': 'Minh Nguyên', 'id': '100006467783182'}\n",
            "{'name': 'Trần Vũ Khánh Duy', 'id': '100006564483387'}\n",
            "{'name': 'Trung Minh', 'id': '100006795516008'}\n",
            "{'name': 'Nguyễn Thành Đạt', 'id': '100006887166178'}\n",
            "{'name': \"Nhoc'ss Lanh'ss Chanh'ss\", 'id': '100006980298673'}\n",
            "{'name': 'Hà Thu', 'id': '100007008793135'}\n",
            "{'name': 'Kiều Quỳnh Nga', 'id': '100007104316356'}\n",
            "{'name': 'Trà Đào', 'id': '100007186428618'}\n",
            "{'name': 'Nguyễn Sơn', 'id': '100007195425074'}\n",
            "{'name': 'Đoàn Ánh Nguyệt', 'id': '100007279713460'}\n",
            "{'name': 'Nguyễn Quốc Dương', 'id': '100007303357478'}\n",
            "{'name': 'Bùi Văn Tính', 'id': '100007488421764'}\n",
            "{'name': 'Doanhong Mc', 'id': '100007530223284'}\n",
            "{'name': 'Hoàng Nguyễn', 'id': '100007566933995'}\n",
            "{'name': 'Ngọc Dương', 'id': '100007708628461'}\n",
            "{'name': 'Lê Kim Hồng', 'id': '100007747637018'}\n",
            "{'name': 'Đức Việt', 'id': '100007751659215'}\n",
            "{'name': 'Hoài Hậu', 'id': '100007832619408'}\n",
            "{'name': 'Phương Hoa', 'id': '100007901051138'}\n",
            "{'name': 'Phan Công Dũng', 'id': '100007926497468'}\n",
            "{'name': 'Duy Anh', 'id': '100008003910054'}\n",
            "{'name': 'Hoàng Quân', 'id': '100008007661128'}\n",
            "{'name': 'Bùi Thị Thanh Huyền', 'id': '100008078839202'}\n",
            "{'name': 'Thu Hiền', 'id': '100008080095316'}\n",
            "{'name': 'Vợ-ơ Người-i Ta-a', 'id': '100008131805968'}\n",
            "{'name': 'Hoai Lai', 'id': '100008207190019'}\n",
            "{'name': 'Cao Xuân Đạt', 'id': '100008298948490'}\n",
            "{'name': 'Van Nguyen', 'id': '100008323395064'}\n",
            "{'name': 'Tuệ Lê', 'id': '100008345683332'}\n",
            "{'name': 'Đức Tú', 'id': '100008370875583'}\n",
            "{'name': 'Nguyễn Thị Ngọc Anh', 'id': '100008426107876'}\n",
            "{'name': 'Nguyễn Thị Thủy', 'id': '100008481123322'}\n",
            "{'name': 'Bùi Ngọc Namm', 'id': '100008486326203'}\n",
            "{'name': 'Trịnh Hưng', 'id': '100008498087630'}\n",
            "{'name': 'Đỗ Hằng', 'id': '100008501236058'}\n",
            "{'name': 'Thanh Trà', 'id': '100008542298187'}\n",
            "{'name': 'Lê Ngọc Ánh', 'id': '100008626866230'}\n",
            "{'name': 'Sarah Mơ', 'id': '100008780051021'}\n",
            "{'name': 'Đào Văn Tài', 'id': '100008804565330'}\n",
            "{'name': 'Cung Thần', 'id': '100008817798647'}\n",
            "{'name': 'Lưu Khánh Huyền', 'id': '100008900490892'}\n",
            "{'name': 'Đỗ Thị Thảo', 'id': '100009037569325'}\n",
            "{'name': 'Ngọc Nguyễn Hocmai', 'id': '100009179187290'}\n",
            "{'name': 'Chăm Nguyễn', 'id': '100009181037730'}\n",
            "{'name': 'Minh Bùi Ngọc', 'id': '100009195008846'}\n",
            "{'name': \"Trang Kiều's\", 'id': '100009228246025'}\n",
            "{'name': 'Đào Minh Nguyệt', 'id': '100009278968422'}\n",
            "{'name': 'Trương Tuấn', 'id': '100009301315873'}\n",
            "{'name': 'Trần Thúy', 'id': '100009412830846'}\n",
            "{'name': 'Thanh Mai', 'id': '100009454111967'}\n",
            "{'name': 'Linh Nguyễn Khánh', 'id': '100009496308050'}\n",
            "{'name': 'Mỹ Duyên', 'id': '100009545743124'}\n",
            "{'name': 'Anh Giáp Cubi', 'id': '100009576578836'}\n",
            "{'name': 'Trần Đức Thanh', 'id': '100009613727846'}\n",
            "{'name': 'Hùng Nguyễn', 'id': '100009725742286'}\n",
            "{'name': 'Nguyễn Thanh Nhàn', 'id': '100009728410232'}\n",
            "{'name': 'Phạm Xuân Trường', 'id': '100009733545815'}\n",
            "{'name': 'Trương Hiếu', 'id': '100009745890082'}\n",
            "{'name': 'Lê Văn Thắng', 'id': '100009755019788'}\n",
            "{'name': 'Quin Quin', 'id': '100009767298431'}\n",
            "{'name': 'Xác Ướp', 'id': '100009780101347'}\n",
            "{'name': 'Đậu Thị Hương', 'id': '100009812737908'}\n",
            "{'name': 'Hoàng Diệu', 'id': '100009864392633'}\n",
            "{'name': 'Bùi Thị Nguyệt', 'id': '100009923461573'}\n",
            "{'name': 'Trần Thanh Lan', 'id': '100009951339913'}\n",
            "{'name': 'Nguyễn Thu Hà', 'id': '100009972155935'}\n",
            "{'name': 'Minh Quang', 'id': '100010002884974'}\n",
            "{'name': 'Đức Minh', 'id': '100010062370947'}\n",
            "{'name': 'Văn Duy Lưu', 'id': '100010078141950'}\n",
            "{'name': 'Xuân Hiển', 'id': '100010088949017'}\n",
            "{'name': 'Qu Yên', 'id': '100010114065972'}\n",
            "{'name': \"Ck-k's Của-a's Thủy-y's\", 'id': '100010155370456'}\n",
            "{'name': 'Nông Thị Thùy Dung', 'id': '100010158191180'}\n",
            "{'name': 'Bùi Hạnh', 'id': '100010184505836'}\n",
            "{'name': 'Bất Tử', 'id': '100010198544966'}\n",
            "{'name': 'Nguyễn Hồng Phúc', 'id': '100010217533116'}\n",
            "{'name': 'Lan Anh Popy', 'id': '100010261189553'}\n",
            "{'name': 'Bùi Tuyết', 'id': '100010286925140'}\n",
            "{'name': \"Hâm'S Huyền'S\", 'id': '100010306050879'}\n",
            "{'name': 'Đinh Lai', 'id': '100010313587145'}\n",
            "{'name': 'My Nguyen', 'id': '100010327997155'}\n",
            "{'name': 'Nguyễn Đức', 'id': '100010401161485'}\n",
            "{'name': 'Nancy Johnson', 'id': '100010411158925'}\n",
            "{'name': 'Chín Mai', 'id': '100010414115004'}\n",
            "{'name': \"Paby 's Xù's Tuờng's\", 'id': '100010426186770'}\n",
            "{'name': 'ชมลม คนขี้เมา รักการ', 'id': '100010484023428'}\n",
            "{'name': 'Hương Trần', 'id': '100010528960840'}\n",
            "{'name': 'Ngoc Anh Nguyen', 'id': '100010535196761'}\n",
            "{'name': 'Phuc Dao', 'id': '100010539679677'}\n",
            "{'name': 'Nguyen Nguyen', 'id': '100010541825918'}\n",
            "{'name': 'Vũ Thị Trang Anh', 'id': '100010556348119'}\n",
            "{'name': 'Xuân Vỹ', 'id': '100010579530675'}\n",
            "{'name': 'Bùi Lanh', 'id': '100010594623560'}\n",
            "{'name': 'Trần Minh', 'id': '100010632738371'}\n",
            "{'name': 'Hoa Phương', 'id': '100010633485601'}\n",
            "{'name': 'Bill Huyền', 'id': '100010674242704'}\n",
            "{'name': 'Bởivìtuấnđẹptrai Nêncónhiềubạngái Họyêutuấntêtái Ngườitaphảiáingại', 'id': '100010699697281'}\n",
            "{'name': 'Ace Nát', 'id': '100010729270824'}\n",
            "{'name': 'Truong Tran', 'id': '100010807636134'}\n",
            "{'name': 'Pé Quyen Pé Quyen', 'id': '100010907474243'}\n",
            "{'name': \"Hoàng's Oanh's Sociu's\", 'id': '100010918862806'}\n",
            "{'name': 'Dang Thu Thao', 'id': '100011052937717'}\n",
            "{'name': 'Phan Trí Dũng', 'id': '100011055707522'}\n",
            "{'name': 'Nghia Nguyen Phu', 'id': '100011089023828'}\n",
            "{'name': 'Lệ Nhật', 'id': '100011113902666'}\n",
            "{'name': 'Phạm Phượng', 'id': '100011179532796'}\n",
            "{'name': 'Huyền Vũ', 'id': '100011215393551'}\n",
            "{'name': 'Hiền Thị', 'id': '100011372052601'}\n",
            "{'name': 'Đạt Đỗ', 'id': '100011384708303'}\n",
            "{'name': 'Hoàng Vũ', 'id': '100011386404241'}\n",
            "{'name': 'Thanh Trần', 'id': '100011415541701'}\n",
            "{'name': 'Hương Ly', 'id': '100011450761998'}\n",
            "{'name': 'Mộc Trà', 'id': '100011518204516'}\n",
            "{'name': 'Lan Huong', 'id': '100011641481524'}\n",
            "{'name': 'Lee Thành Trung', 'id': '100012073182084'}\n",
            "{'name': 'Sinh Le', 'id': '100012382411938'}\n",
            "{'name': 'Phạm Thiện', 'id': '100012397095206'}\n",
            "{'name': 'Phạm Thị Bách Diệp', 'id': '100012480041866'}\n",
            "{'name': 'Nguyễn Tường', 'id': '100012538057742'}\n",
            "{'name': 'Anh Ngoc Bui', 'id': '100012656589027'}\n",
            "{'name': 'Đ.T. Ngọc Dương', 'id': '100012910962648'}\n",
            "{'name': 'Hà Linh', 'id': '100012912066148'}\n",
            "{'name': 'An Dĩ Phong', 'id': '100013004982398'}\n",
            "{'name': 'Hà Kuppi', 'id': '100013032132067'}\n",
            "{'name': 'Hoang Anh', 'id': '100013184288333'}\n",
            "{'name': 'V. T. Huyền', 'id': '100013184562885'}\n",
            "{'name': 'Nguyễn Hữu Tùng', 'id': '100013258063861'}\n",
            "{'name': 'Mai Lương', 'id': '100013329483707'}\n",
            "{'name': 'Phạm Văn Nguyên', 'id': '100013459621273'}\n",
            "{'name': 'Ngô Thế Long', 'id': '100013554549790'}\n",
            "{'name': 'Vũ Duy Hoàng', 'id': '100013559178102'}\n",
            "{'name': 'Rau Cải Xoong', 'id': '100013568858131'}\n",
            "{'name': 'Ngo Anh Tuan', 'id': '100013622685632'}\n",
            "{'name': 'Dũng Phạm', 'id': '100013658745009'}\n",
            "{'name': 'Nhật Bằng Nguyễn', 'id': '100013832931112'}\n",
            "{'name': 'Nguyễn Tuấn', 'id': '100013934051062'}\n",
            "{'name': 'Trần Thị Hoa', 'id': '100014046107252'}\n",
            "{'name': 'Vũ Phanh', 'id': '100014347893189'}\n",
            "{'name': 'Phạm Bảo Ngọc', 'id': '100014361254305'}\n",
            "{'name': 'Người Không Tên', 'id': '100014430253039'}\n",
            "{'name': 'Học Trên Mây', 'id': '100014719085108'}\n",
            "{'name': 'Lê Thúy', 'id': '100014733999059'}\n",
            "{'name': 'Nguyễn Ngọc Bích', 'id': '100014771348624'}\n",
            "{'name': 'Hồng Quân', 'id': '100014797038242'}\n",
            "{'name': 'Thúy Nguyễn', 'id': '100014816864142'}\n",
            "{'name': 'Lâm Quang Trường', 'id': '100015004578733'}\n",
            "{'name': 'Quà Vàng', 'id': '100015024166973'}\n",
            "{'name': 'Nguyễn Viết Của', 'id': '100015059568594'}\n",
            "{'name': 'Huyền Nguyễn', 'id': '100015138136258'}\n",
            "{'name': 'Như ÝShin', 'id': '100015142093920'}\n",
            "{'name': 'Như Thảo', 'id': '100015193506619'}\n",
            "{'name': 'Trần Phươngpd', 'id': '100015216608990'}\n",
            "{'name': 'Thanh Huyền', 'id': '100015300459300'}\n",
            "{'name': 'Thiên Bình', 'id': '100015312303424'}\n",
            "{'name': 'Kiều Mến', 'id': '100015334680017'}\n",
            "{'name': 'Thanh Tân', 'id': '100015361600190'}\n",
            "{'name': 'Kecodon Nguyen', 'id': '100015527793845'}\n",
            "{'name': 'Bích Ngọc', 'id': '100015530406331'}\n",
            "{'name': 'Nguyễn Gia Triều', 'id': '100015541218407'}\n",
            "{'name': 'Lysandra Alex', 'id': '100016017464524'}\n",
            "{'name': 'Nguyễn Kiên', 'id': '100016060745208'}\n",
            "{'name': 'Stork Nguyên', 'id': '100016130494223'}\n",
            "{'name': 'Hoàng Đông', 'id': '100016130628257'}\n",
            "{'name': 'Ngọc Hân', 'id': '100016283085212'}\n",
            "{'name': 'Trần Uyên', 'id': '100016764253033'}\n",
            "{'name': 'Nguyễn Thuỳ Phương', 'id': '100016993397984'}\n",
            "{'name': 'Lê Nguyễn Khánh Linh', 'id': '100017253300762'}\n",
            "{'name': 'Hạ Phạm', 'id': '100017752202606'}\n",
            "{'name': 'Phạm Văn Dũng', 'id': '100017757255252'}\n",
            "{'name': 'Hiếu Nguyễn', 'id': '100018049146085'}\n",
            "{'name': 'Phạm Hồng Nhung', 'id': '100018547915981'}\n",
            "{'name': 'Toàn Lê', 'id': '100019352620268'}\n",
            "{'name': 'Ali Hoàng Linh', 'id': '100020796433347'}\n",
            "{'name': 'Vy Thanh', 'id': '100021266447017'}\n",
            "{'name': 'Trần Thị Thùy Linh', 'id': '100021407202143'}\n",
            "{'name': 'Vụct Hs Sv', 'id': '100021497892549'}\n",
            "{'name': 'Kim Chi', 'id': '100021502205169'}\n",
            "{'name': 'Thanh Tân Ted Ted', 'id': '100021774225516'}\n",
            "{'name': 'Nguyễn Thị Lan Hương', 'id': '100022099343398'}\n",
            "{'name': 'Trần Thúy Vân', 'id': '100022118143006'}\n",
            "{'name': 'Linh Linh', 'id': '100022142986878'}\n",
            "{'name': 'Phạm Ngọc Châm', 'id': '100022209156852'}\n",
            "{'name': 'Nguyễn Minh Hiếu', 'id': '100022244345501'}\n",
            "{'name': 'Huyền Vivian', 'id': '100022305035048'}\n",
            "{'name': 'Tḩôñg Đïệp Mëssëŉġër', 'id': '100022469827189'}\n",
            "{'name': 'Thuc Manh Ta', 'id': '100022601063434'}\n",
            "{'name': 'Đỗ An Hiếu', 'id': '100022878196101'}\n",
            "{'name': 'Trung Minh', 'id': '100023035969873'}\n",
            "{'name': 'Đặng Bình Huy', 'id': '100023490330149'}\n",
            "{'name': 'Linh Cherry', 'id': '100023701027776'}\n",
            "{'name': 'Thu Hương', 'id': '100023947121977'}\n",
            "{'name': 'Dương Tử', 'id': '100023979616019'}\n",
            "{'name': 'Trương Tuấn', 'id': '100023988652680'}\n",
            "{'name': 'Xu Xu', 'id': '100024071225237'}\n",
            "{'name': 'Nguyên Ming', 'id': '100024645015965'}\n",
            "{'name': 'Pham Thu Trang', 'id': '100024681951906'}\n",
            "{'name': \"Vũ's Đôla\", 'id': '100024763772938'}\n",
            "{'name': 'Nguyễn Trương Mai Thuy', 'id': '100024846919702'}\n",
            "{'name': 'Phúc Hoàng', 'id': '100024850023093'}\n",
            "{'name': 'Trần Đ.Lương', 'id': '100024925925315'}\n",
            "{'name': 'Linhkiện Cầnlàcó', 'id': '100024994911072'}\n",
            "{'name': 'Luyện Thi Đại Học', 'id': '100025029129279'}\n",
            "{'name': 'Bùi Thanh Xuân', 'id': '100025030890663'}\n",
            "{'name': 'Thùy Dương', 'id': '100025308374712'}\n",
            "{'name': 'Nguyễn Minh Thúy', 'id': '100025463928413'}\n",
            "{'name': 'Điện Tử Thủy', 'id': '100025811686147'}\n",
            "{'name': 'Anh Lam', 'id': '100025873300083'}\n",
            "{'name': 'Nguyễn Hồng', 'id': '100025990711099'}\n",
            "{'name': 'Chi Hoàng', 'id': '100026018404714'}\n",
            "{'name': 'Lưu Chi', 'id': '100026401625760'}\n",
            "{'name': 'Messeňger Việt Nam', 'id': '100026476370702'}\n",
            "{'name': 'Thuỳ Linh', 'id': '100026638937548'}\n",
            "{'name': 'All Study', 'id': '100026683517556'}\n",
            "{'name': 'Nam Đặng', 'id': '100026766544860'}\n",
            "{'name': 'Nghĩa Minh', 'id': '100027030941381'}\n",
            "{'name': 'My Kim', 'id': '100027311863919'}\n",
            "{'name': 'Ngân Lê', 'id': '100027326571587'}\n",
            "{'name': 'Thanh Thanh', 'id': '100027376510805'}\n",
            "{'name': 'La Zuche', 'id': '100027473042028'}\n",
            "{'name': 'Tandat Ngo', 'id': '100027564369101'}\n",
            "{'name': 'Minh Hiếu C.I.A', 'id': '100027679834995'}\n",
            "{'name': 'Điện Tử Miền Nam', 'id': '100027800168378'}\n",
            "{'name': 'Nguyen Thanh', 'id': '100027919994902'}\n",
            "{'name': 'Huynh Phạm', 'id': '100028092874059'}\n",
            "{'name': 'Toán A-z', 'id': '100028148265540'}\n",
            "{'name': 'Nghiêm Xuân Tân', 'id': '100028582595816'}\n",
            "{'name': 'Đinh Tuấn Anh-Kane', 'id': '100028653403136'}\n",
            "{'name': 'Hoàng Đức Thắng', 'id': '100029073380889'}\n",
            "{'name': 'Nguyễn Văn Đức', 'id': '100029268278077'}\n",
            "{'name': 'Vũ Kim Toàn', 'id': '100029428300687'}\n",
            "{'name': 'Đức Tú', 'id': '100029484251292'}\n",
            "{'name': 'Nguyễn Phạm An', 'id': '100029500993011'}\n",
            "{'name': 'Trần Phú Quý', 'id': '100029560772112'}\n",
            "{'name': 'Công Nguyễn Văn', 'id': '100029628525391'}\n",
            "{'name': 'Trần Quyết', 'id': '100030425615311'}\n",
            "{'name': 'Nguyễn Văn Ngân', 'id': '100030461140343'}\n",
            "{'name': 'Lữ Thị Thu Hà', 'id': '100030672848057'}\n",
            "{'name': 'An Tran', 'id': '100030810882446'}\n",
            "{'name': 'Thao Dang', 'id': '100032773634633'}\n",
            "{'name': 'Nguyễn Huyền Trang', 'id': '100033069610706'}\n",
            "{'name': 'Ngọc Ánh', 'id': '100033922817797'}\n",
            "{'name': 'Trần Vi', 'id': '100034112178799'}\n",
            "{'name': 'Nguyễn Lâm', 'id': '100034741363864'}\n",
            "{'name': 'Nguyên Nguyễn', 'id': '100034797442185'}\n",
            "{'name': 'Hai Kieu', 'id': '100034805502514'}\n",
            "{'name': 'Nguyễn Thu', 'id': '100034879221159'}\n",
            "{'name': 'Long Vũ', 'id': '100035006281403'}\n",
            "{'name': 'Diệp An', 'id': '100035043789876'}\n",
            "{'name': 'Phương Thảo', 'id': '100035210944590'}\n",
            "{'name': 'Thảo Lê', 'id': '100035261047485'}\n",
            "{'name': 'Nguyễn Hải Đăng', 'id': '100035466263210'}\n",
            "{'name': 'Phùng Thanh Nam', 'id': '100035966343504'}\n",
            "{'name': 'Bảo Châu', 'id': '100036539202743'}\n",
            "{'name': 'Hoàng Phạm', 'id': '100036631607328'}\n",
            "{'name': 'Nguyên Đat', 'id': '100036763493671'}\n",
            "{'name': 'Thuỳ Dương', 'id': '100037011233375'}\n",
            "{'name': 'Bùi Đức Hải', 'id': '100038526376780'}\n",
            "{'name': 'Lê Phương', 'id': '100039475214169'}\n",
            "{'name': 'Huyen Anh', 'id': '100040139272216'}\n",
            "{'name': 'Lan Hương', 'id': '100040146762035'}\n",
            "{'name': 'Nguyễn Thủy', 'id': '100040224861651'}\n",
            "{'name': 'Hoàng Yến', 'id': '100040559764970'}\n",
            "{'name': 'Bùi Ngọc Tâm', 'id': '100040861025521'}\n",
            "{'name': 'Phạm Nguyệt', 'id': '100041204974782'}\n",
            "{'name': 'Bùi Tuyết', 'id': '100041230117603'}\n",
            "{'name': 'Nguyễn Trần Đông Phương', 'id': '100041321742643'}\n",
            "{'name': 'Phạm Nguyên', 'id': '100041418877354'}\n",
            "{'name': 'Nguyễn Đức', 'id': '100041514164780'}\n",
            "{'name': 'Vy Lâm', 'id': '100041980508453'}\n",
            "{'name': 'My Trà', 'id': '100043046504340'}\n",
            "{'name': 'Văn Hòa', 'id': '100044310216750'}\n",
            "{'name': 'Học Lập Trình', 'id': '100044804042433'}\n",
            "{'name': 'Nguyeen Cường', 'id': '100046011450168'}\n",
            "{'name': 'Văn Sang', 'id': '100046364824512'}\n",
            "{'name': 'Nguyễn Hoài Linh', 'id': '100046626878739'}\n",
            "{'name': 'Trần Phương', 'id': '100047231750976'}\n",
            "{'name': 'Nguyễn Tuấn Sơn', 'id': '100047554776760'}\n",
            "{'name': 'Trần Hùng', 'id': '100048000292799'}\n",
            "{'name': 'Thu Phương', 'id': '100049231367077'}\n",
            "{'name': 'Naptune Infotech', 'id': '100049738516650'}\n",
            "{'name': 'Đỗ Hải Yến', 'id': '100052457979493'}\n",
            "{'name': 'Xuân Sam', 'id': '100052855756462'}\n",
            "{'name': 'Do Huyen', 'id': '100053270205613'}\n",
            "{'name': 'Đỗ An Hiếu', 'id': '100053627272174'}\n",
            "{'name': 'Tram Le', 'id': '100054093031498'}\n",
            "{'name': 'Khương Duy Bùi', 'id': '100058536713728'}\n",
            "{'name': 'Thanh Nhan Nguyen', 'id': '100059139256630'}\n",
            "{'name': 'Nguyễn Trường Giang', 'id': '100060542750117'}\n"
          ],
          "name": "stdout"
        }
      ]
    },
    {
      "cell_type": "code",
      "metadata": {
        "id": "1y4bzpPl_vFO"
      },
      "source": [
        " driver.get(\"https://www.facebook.com/messages/t/100009409971037\")"
      ],
      "execution_count": null,
      "outputs": []
    },
    {
      "cell_type": "code",
      "metadata": {
        "colab": {
          "base_uri": "https://localhost:8080/"
        },
        "id": "XjvKxRoUAPwE",
        "outputId": "a1b23c5a-ffaf-482f-e6d9-5ec096eedede"
      },
      "source": [
        "driver.get_cookies()"
      ],
      "execution_count": null,
      "outputs": [
        {
          "output_type": "execute_result",
          "data": {
            "text/plain": [
              "[{'domain': '.facebook.com',\n",
              "  'expiry': 1620821486,\n",
              "  'httpOnly': True,\n",
              "  'name': 'fr',\n",
              "  'path': '/',\n",
              "  'sameSite': 'None',\n",
              "  'secure': True,\n",
              "  'value': '1Me0PC3kkTCx4N6eh..BgJR7t.B4.AAA.0.0.BgJR7v.AWU7LBAaeqo'},\n",
              " {'domain': '.facebook.com',\n",
              "  'httpOnly': True,\n",
              "  'name': 'checkpoint',\n",
              "  'path': '/',\n",
              "  'sameSite': 'None',\n",
              "  'secure': True,\n",
              "  'value': '%7B%22u%22%3A100008323395064%2C%22t%22%3A1613045486%2C%22step%22%3A101%2C%22n%22%3A%227DuVjCXIOD0%3D%22%2C%22inst%22%3A2939366849684066%2C%22f%22%3A207799259245384%2C%22st%22%3A%22c%22%2C%22aid%22%3Anull%2C%22ca%22%3Anull%2C%22la%22%3A%22%22%2C%22ta%22%3A%221613045487.ch.s%3Apw.tDBGAiEA7XcByYi4k1Rk152BI-f18QC87ddS8AcrS466S0Ry66QCIQDEIjHOjBdf259mrntrsFTSwDYREnOTvWV6lJ1pnLJjQA%22%2C%22ffvauid%22%3Anull%2C%22ffvavt%22%3Anull%2C%22ffvaapt%22%3Anull%2C%22ffvasig%22%3Anull%2C%22tfvauid%22%3Anull%2C%22tfvavt%22%3Anull%2C%22tfvacode%22%3Anull%2C%22tfvamac%22%3Anull%2C%22sat%22%3Anull%2C%22s%22%3A%22AWWRXIYDP_x8QSG_65I%22%2C%22cs%22%3A%7B%223%22%3A1613045487%7D%2C%22ssp%22%3A1%7D'},\n",
              " {'domain': '.facebook.com',\n",
              "  'expiry': 1613650287,\n",
              "  'httpOnly': False,\n",
              "  'name': 'locale',\n",
              "  'path': '/',\n",
              "  'sameSite': 'None',\n",
              "  'secure': True,\n",
              "  'value': 'vi_VN'},\n",
              " {'domain': '.facebook.com',\n",
              "  'expiry': 1613650292,\n",
              "  'httpOnly': False,\n",
              "  'name': 'wd',\n",
              "  'path': '/',\n",
              "  'sameSite': 'Lax',\n",
              "  'secure': True,\n",
              "  'value': '800x600'},\n",
              " {'domain': '.facebook.com',\n",
              "  'expiry': 1676117486,\n",
              "  'httpOnly': True,\n",
              "  'name': 'datr',\n",
              "  'path': '/',\n",
              "  'sameSite': 'None',\n",
              "  'secure': True,\n",
              "  'value': '7R4lYB-ZYVIBI7n1lEq2LXVl'},\n",
              " {'domain': '.facebook.com',\n",
              "  'expiry': 1676117485,\n",
              "  'httpOnly': True,\n",
              "  'name': 'sb',\n",
              "  'path': '/',\n",
              "  'sameSite': 'None',\n",
              "  'secure': True,\n",
              "  'value': '7R4lYDIjWhY5i-LNWWoovp9u'}]"
            ]
          },
          "metadata": {
            "tags": []
          },
          "execution_count": 27
        }
      ]
    },
    {
      "cell_type": "code",
      "metadata": {
        "colab": {
          "base_uri": "https://localhost:8080/"
        },
        "id": "s6xivANYAb24",
        "outputId": "d184c273-4467-42b9-aa55-5bb39ebbff8d"
      },
      "source": [
        "driver.save_screenshot(\"screenshot.png\")"
      ],
      "execution_count": null,
      "outputs": [
        {
          "output_type": "execute_result",
          "data": {
            "text/plain": [
              "True"
            ]
          },
          "metadata": {
            "tags": []
          },
          "execution_count": 42
        }
      ]
    },
    {
      "cell_type": "code",
      "metadata": {
        "id": "D0CgTLRy_14O"
      },
      "source": [
        "mess = 'I Love You'"
      ],
      "execution_count": null,
      "outputs": []
    },
    {
      "cell_type": "code",
      "metadata": {
        "id": "4r_Rz8BH_wPu"
      },
      "source": [
        "driver.find_element_by_xpath('//*[@id=\"mount_0_0\"]/div/div[1]/div/div[3]/div/div/div[1]/div[1]/div[2]/div/div/div/div/div/div[1]/div[2]/div/div/div/div[2]/div/form/div/div[3]/div[2]/div[1]/div/div/div/div/div[2]/div/div/div/div/span').send_keys(mess)"
      ],
      "execution_count": null,
      "outputs": []
    },
    {
      "cell_type": "code",
      "metadata": {
        "id": "H4V5htcv_x4j"
      },
      "source": [
        "driver.find_element_by_css_selector('[aria-label=\"Nhấn Enter để gửi\"]').click()"
      ],
      "execution_count": null,
      "outputs": []
    }
  ]
}
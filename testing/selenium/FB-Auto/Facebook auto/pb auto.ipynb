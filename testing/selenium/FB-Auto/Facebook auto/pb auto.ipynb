{
 "cells": [
  {
   "cell_type": "code",
   "execution_count": 1,
   "metadata": {},
   "outputs": [],
   "source": [
    "from selenium.webdriver.common.keys import Keys\n",
    "from selenium import webdriver\n",
    "from selenium import *\n",
    "import os\n",
    "import time\n",
    "import pyautogui\n",
    "from selenium.webdriver import ActionChains"
   ]
  },
  {
   "cell_type": "code",
   "execution_count": 29,
   "metadata": {},
   "outputs": [],
   "source": [
    "cookies = [{'domain': '.facebook.com',\n",
    "  'expiry': 1620801426,\n",
    "  'httpOnly': True,\n",
    "  'name': 'fr',\n",
    "  'path': '/',\n",
    "  'sameSite': 'None',\n",
    "  'secure': True,\n",
    "  'value': '1Nk4TkqSP1AM7s34N.AWXsFoFawMoBaNPSZTAAfjubxvQ.BgJNCU.OD.AAA.0.0.BgJNCV.AWWeEzXRN6I'},\n",
    " {'domain': '.facebook.com',\n",
    "  'expiry': 1644561429,\n",
    "  'httpOnly': True,\n",
    "  'name': 'xs',\n",
    "  'path': '/',\n",
    "  'sameSite': 'None',\n",
    "  'secure': True,\n",
    "  'value': '36%3AfcP3Vadmn47SlQ%3A2%3A1613025429%3A2998%3A12898'},\n",
    " {'domain': '.facebook.com',\n",
    "  'expiry': 1676097430,\n",
    "  'httpOnly': True,\n",
    "  'name': 'datr',\n",
    "  'path': '/',\n",
    "  'sameSite': 'None',\n",
    "  'secure': True,\n",
    "  'value': 'lNAkYFjFCx_d6rQCqbAAjI_S'},\n",
    " {'domain': '.facebook.com',\n",
    "  'expiry': 1644561429,\n",
    "  'httpOnly': False,\n",
    "  'name': 'c_user',\n",
    "  'path': '/',\n",
    "  'sameSite': 'None',\n",
    "  'secure': True,\n",
    "  'value': '100008323395064'},\n",
    " {'domain': '.facebook.com',\n",
    "  'expiry': 1613115435,\n",
    "  'httpOnly': True,\n",
    "  'name': 'spin',\n",
    "  'path': '/',\n",
    "  'sameSite': 'None',\n",
    "  'secure': True,\n",
    "  'value': 'r.1003296060_b.trunk_t.1613025433_s.1_v.2_'},\n",
    " {'domain': '.facebook.com',\n",
    "  'expiry': 1613630230,\n",
    "  'httpOnly': False,\n",
    "  'name': 'wd',\n",
    "  'path': '/',\n",
    "  'sameSite': 'Lax',\n",
    "  'secure': True,\n",
    "  'value': '898x928'},\n",
    " {'domain': '.facebook.com',\n",
    "  'expiry': 1676097432,\n",
    "  'httpOnly': True,\n",
    "  'name': 'sb',\n",
    "  'path': '/',\n",
    "  'sameSite': 'None',\n",
    "  'secure': True,\n",
    "  'value': 'lNAkYIqr24B6gMVID5MaueYc'}]"
   ]
  },
  {
   "cell_type": "code",
   "execution_count": 3,
   "metadata": {},
   "outputs": [],
   "source": [
    "    options = webdriver.ChromeOptions()\n",
    "    options.add_argument(\"--disable-notifications\")\n",
    "    # options.add_argument('--headless') disable gui\n",
    "    driver = webdriver.Chrome(\"chromedriver.exe\",options=options)\n",
    "    action = ActionChains(driver)\n",
    "    driver.get(\"https://facebook.com\")    \n",
    "    driver.find_element_by_id(\"email\").send_keys(\"\")\n",
    "    driver.find_element_by_id(\"pass\").send_keys(\"\")\n",
    "    driver.find_element_by_id(\"u_0_d\").click()\n",
    "    time.sleep(1)"
   ]
  },
  {
   "cell_type": "code",
   "execution_count": 34,
   "metadata": {},
   "outputs": [],
   "source": [
    "for i in cookies:\n",
    "    driver.add_cookie(i)"
   ]
  },
  {
   "cell_type": "code",
   "execution_count": 4,
   "metadata": {},
   "outputs": [],
   "source": [
    " driver.get(\"https://www.facebook.com/messages/t/100009409971037\")"
   ]
  },
  {
   "cell_type": "code",
   "execution_count": 5,
   "metadata": {},
   "outputs": [],
   "source": [
    "driver.find_element_by_xpath('//*[@id=\"mount_0_0\"]/div/div[1]/div/div[3]/div/div/div[1]/div[1]/div[2]/div/div/div/div/div/div[1]/div[2]/div/div/div/div[2]/div/form/div/div[3]/div[2]/div[1]/div/div/div/div/div[2]/div/div/div/div/span').send_keys(\"pVn2k1@vn\")"
   ]
  },
  {
   "cell_type": "code",
   "execution_count": 6,
   "metadata": {},
   "outputs": [],
   "source": [
    "driver.find_element_by_css_selector('[aria-label=\"Nhấn Enter để gửi\"]').click()"
   ]
  },
  {
   "cell_type": "code",
   "execution_count": null,
   "metadata": {},
   "outputs": [],
   "source": []
  }
 ],
 "metadata": {
  "kernelspec": {
   "display_name": "Python 3",
   "language": "python",
   "name": "python3"
  },
  "language_info": {
   "codemirror_mode": {
    "name": "ipython",
    "version": 3
   },
   "file_extension": ".py",
   "mimetype": "text/x-python",
   "name": "python",
   "nbconvert_exporter": "python",
   "pygments_lexer": "ipython3",
   "version": "3.8.3-final"
  }
 },
 "nbformat": 4,
 "nbformat_minor": 2
}
